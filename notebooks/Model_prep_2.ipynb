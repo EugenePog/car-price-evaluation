{
 "cells": [
  {
   "cell_type": "code",
   "execution_count": 18,
   "id": "ad4ff28f",
   "metadata": {},
   "outputs": [],
   "source": [
    "import pandas as pd\n",
    "import numpy as np\n",
    "import datetime as dt\n",
    "from sklearn.linear_model import LinearRegression\n",
    "from sklearn.model_selection import train_test_split\n",
    "from sklearn import metrics\n",
    "\n",
    "from datetime import date\n",
    "\n",
    "import matplotlib.pyplot as plt\n",
    "%matplotlib inline\n",
    "import sys\n",
    "from sklearn.feature_extraction import DictVectorizer\n",
    "\n",
    "from sklearn.preprocessing import LabelEncoder\n",
    "from sklearn.preprocessing import OneHotEncoder\n",
    "import numpy\n",
    "\n",
    "from xgboost import XGBRegressor"
   ]
  },
  {
   "cell_type": "code",
   "execution_count": 19,
   "id": "6b953942",
   "metadata": {},
   "outputs": [],
   "source": [
    "num_f = ['model_age', 'm_from_car_reg', 'power_kw', 'mileage_in_km']\n",
    "cat_f = ['brand', 'model', 'color', 'transmission_type', 'fuel_type']\n",
    "target = ['price_in_euro']\n",
    "preprocessed_data = '../data/car-price-processed-data.parquet'"
   ]
  },
  {
   "cell_type": "code",
   "execution_count": 20,
   "id": "22b48435",
   "metadata": {},
   "outputs": [],
   "source": [
    "#loading data\n",
    "df = pd.read_parquet(preprocessed_data)"
   ]
  },
  {
   "cell_type": "code",
   "execution_count": 4,
   "id": "9134816b",
   "metadata": {},
   "outputs": [
    {
     "data": {
      "text/plain": [
       "brand                 object\n",
       "model                 object\n",
       "color                 object\n",
       "transmission_type     object\n",
       "fuel_type             object\n",
       "model_age              int64\n",
       "m_from_car_reg         int64\n",
       "power_kw               int64\n",
       "mileage_in_km        float64\n",
       "price_in_euro          int64\n",
       "dtype: object"
      ]
     },
     "execution_count": 4,
     "metadata": {},
     "output_type": "execute_result"
    }
   ],
   "source": [
    "df.dtypes"
   ]
  },
  {
   "cell_type": "code",
   "execution_count": 5,
   "id": "8480d4d0",
   "metadata": {},
   "outputs": [
    {
     "data": {
      "text/html": [
       "<div>\n",
       "<style scoped>\n",
       "    .dataframe tbody tr th:only-of-type {\n",
       "        vertical-align: middle;\n",
       "    }\n",
       "\n",
       "    .dataframe tbody tr th {\n",
       "        vertical-align: top;\n",
       "    }\n",
       "\n",
       "    .dataframe thead th {\n",
       "        text-align: right;\n",
       "    }\n",
       "</style>\n",
       "<table border=\"1\" class=\"dataframe\">\n",
       "  <thead>\n",
       "    <tr style=\"text-align: right;\">\n",
       "      <th></th>\n",
       "      <th>brand</th>\n",
       "      <th>model</th>\n",
       "      <th>color</th>\n",
       "      <th>transmission_type</th>\n",
       "      <th>fuel_type</th>\n",
       "      <th>model_age</th>\n",
       "      <th>m_from_car_reg</th>\n",
       "      <th>power_kw</th>\n",
       "      <th>mileage_in_km</th>\n",
       "      <th>price_in_euro</th>\n",
       "    </tr>\n",
       "  </thead>\n",
       "  <tbody>\n",
       "    <tr>\n",
       "      <th>0</th>\n",
       "      <td>alfa-romeo</td>\n",
       "      <td>Alfa Romeo GTV</td>\n",
       "      <td>red</td>\n",
       "      <td>Manual</td>\n",
       "      <td>Petrol</td>\n",
       "      <td>28</td>\n",
       "      <td>333</td>\n",
       "      <td>148</td>\n",
       "      <td>160500.0</td>\n",
       "      <td>1300</td>\n",
       "    </tr>\n",
       "    <tr>\n",
       "      <th>1</th>\n",
       "      <td>alfa-romeo</td>\n",
       "      <td>Alfa Romeo 164</td>\n",
       "      <td>black</td>\n",
       "      <td>Manual</td>\n",
       "      <td>Petrol</td>\n",
       "      <td>28</td>\n",
       "      <td>341</td>\n",
       "      <td>191</td>\n",
       "      <td>190000.0</td>\n",
       "      <td>24900</td>\n",
       "    </tr>\n",
       "    <tr>\n",
       "      <th>2</th>\n",
       "      <td>alfa-romeo</td>\n",
       "      <td>Alfa Romeo Spider</td>\n",
       "      <td>black</td>\n",
       "      <td>Unknown</td>\n",
       "      <td>Petrol</td>\n",
       "      <td>28</td>\n",
       "      <td>341</td>\n",
       "      <td>110</td>\n",
       "      <td>129000.0</td>\n",
       "      <td>5900</td>\n",
       "    </tr>\n",
       "    <tr>\n",
       "      <th>3</th>\n",
       "      <td>alfa-romeo</td>\n",
       "      <td>Alfa Romeo Spider</td>\n",
       "      <td>black</td>\n",
       "      <td>Manual</td>\n",
       "      <td>Petrol</td>\n",
       "      <td>28</td>\n",
       "      <td>336</td>\n",
       "      <td>110</td>\n",
       "      <td>189500.0</td>\n",
       "      <td>4900</td>\n",
       "    </tr>\n",
       "    <tr>\n",
       "      <th>4</th>\n",
       "      <td>alfa-romeo</td>\n",
       "      <td>Alfa Romeo 164</td>\n",
       "      <td>red</td>\n",
       "      <td>Manual</td>\n",
       "      <td>Petrol</td>\n",
       "      <td>27</td>\n",
       "      <td>320</td>\n",
       "      <td>132</td>\n",
       "      <td>96127.0</td>\n",
       "      <td>17950</td>\n",
       "    </tr>\n",
       "    <tr>\n",
       "      <th>...</th>\n",
       "      <td>...</td>\n",
       "      <td>...</td>\n",
       "      <td>...</td>\n",
       "      <td>...</td>\n",
       "      <td>...</td>\n",
       "      <td>...</td>\n",
       "      <td>...</td>\n",
       "      <td>...</td>\n",
       "      <td>...</td>\n",
       "      <td>...</td>\n",
       "    </tr>\n",
       "    <tr>\n",
       "      <th>251074</th>\n",
       "      <td>volvo</td>\n",
       "      <td>Volvo XC40</td>\n",
       "      <td>white</td>\n",
       "      <td>Automatic</td>\n",
       "      <td>Hybrid</td>\n",
       "      <td>0</td>\n",
       "      <td>3</td>\n",
       "      <td>192</td>\n",
       "      <td>1229.0</td>\n",
       "      <td>57990</td>\n",
       "    </tr>\n",
       "    <tr>\n",
       "      <th>251075</th>\n",
       "      <td>volvo</td>\n",
       "      <td>Volvo XC90</td>\n",
       "      <td>white</td>\n",
       "      <td>Automatic</td>\n",
       "      <td>Diesel</td>\n",
       "      <td>0</td>\n",
       "      <td>4</td>\n",
       "      <td>173</td>\n",
       "      <td>4900.0</td>\n",
       "      <td>89690</td>\n",
       "    </tr>\n",
       "    <tr>\n",
       "      <th>251076</th>\n",
       "      <td>volvo</td>\n",
       "      <td>Volvo V60</td>\n",
       "      <td>white</td>\n",
       "      <td>Automatic</td>\n",
       "      <td>Diesel</td>\n",
       "      <td>0</td>\n",
       "      <td>2</td>\n",
       "      <td>145</td>\n",
       "      <td>1531.0</td>\n",
       "      <td>61521</td>\n",
       "    </tr>\n",
       "    <tr>\n",
       "      <th>251077</th>\n",
       "      <td>volvo</td>\n",
       "      <td>Volvo XC40</td>\n",
       "      <td>white</td>\n",
       "      <td>Automatic</td>\n",
       "      <td>Hybrid</td>\n",
       "      <td>0</td>\n",
       "      <td>2</td>\n",
       "      <td>132</td>\n",
       "      <td>1500.0</td>\n",
       "      <td>57890</td>\n",
       "    </tr>\n",
       "    <tr>\n",
       "      <th>251078</th>\n",
       "      <td>volvo</td>\n",
       "      <td>Volvo XC40</td>\n",
       "      <td>gold</td>\n",
       "      <td>Automatic</td>\n",
       "      <td>Electric</td>\n",
       "      <td>0</td>\n",
       "      <td>4</td>\n",
       "      <td>160</td>\n",
       "      <td>50.0</td>\n",
       "      <td>52900</td>\n",
       "    </tr>\n",
       "  </tbody>\n",
       "</table>\n",
       "<p>244342 rows × 10 columns</p>\n",
       "</div>"
      ],
      "text/plain": [
       "             brand              model  color transmission_type fuel_type  \\\n",
       "0       alfa-romeo     Alfa Romeo GTV    red            Manual    Petrol   \n",
       "1       alfa-romeo     Alfa Romeo 164  black            Manual    Petrol   \n",
       "2       alfa-romeo  Alfa Romeo Spider  black           Unknown    Petrol   \n",
       "3       alfa-romeo  Alfa Romeo Spider  black            Manual    Petrol   \n",
       "4       alfa-romeo     Alfa Romeo 164    red            Manual    Petrol   \n",
       "...            ...                ...    ...               ...       ...   \n",
       "251074       volvo         Volvo XC40  white         Automatic    Hybrid   \n",
       "251075       volvo         Volvo XC90  white         Automatic    Diesel   \n",
       "251076       volvo          Volvo V60  white         Automatic    Diesel   \n",
       "251077       volvo         Volvo XC40  white         Automatic    Hybrid   \n",
       "251078       volvo         Volvo XC40   gold         Automatic  Electric   \n",
       "\n",
       "        model_age  m_from_car_reg  power_kw  mileage_in_km  price_in_euro  \n",
       "0              28             333       148       160500.0           1300  \n",
       "1              28             341       191       190000.0          24900  \n",
       "2              28             341       110       129000.0           5900  \n",
       "3              28             336       110       189500.0           4900  \n",
       "4              27             320       132        96127.0          17950  \n",
       "...           ...             ...       ...            ...            ...  \n",
       "251074          0               3       192         1229.0          57990  \n",
       "251075          0               4       173         4900.0          89690  \n",
       "251076          0               2       145         1531.0          61521  \n",
       "251077          0               2       132         1500.0          57890  \n",
       "251078          0               4       160           50.0          52900  \n",
       "\n",
       "[244342 rows x 10 columns]"
      ]
     },
     "execution_count": 5,
     "metadata": {},
     "output_type": "execute_result"
    }
   ],
   "source": [
    "df"
   ]
  },
  {
   "cell_type": "code",
   "execution_count": 21,
   "id": "c435a6d8",
   "metadata": {},
   "outputs": [],
   "source": [
    "X_train, X_test, Y_train, Y_test = train_test_split(df[num_f+cat_f], df[target].values, test_size=0.25, random_state=0)"
   ]
  },
  {
   "cell_type": "code",
   "execution_count": 22,
   "id": "e345d58a",
   "metadata": {},
   "outputs": [],
   "source": [
    "#creating dummy variables\n",
    "X_train[cat_f] = X_train[cat_f].astype(str)\n",
    "train_dict = X_train[cat_f].to_dict(orient = 'records')\n",
    "\n",
    "dv = DictVectorizer()\n",
    "X_train_vect = dv.fit_transform(train_dict)\n",
    "\n",
    "#the same for X_test\n",
    "X_test[cat_f] = X_test[cat_f].astype(str)\n",
    "test_dict = X_test[cat_f].to_dict(orient = 'records')\n",
    "X_test_vect = dv.transform(test_dict)"
   ]
  },
  {
   "cell_type": "code",
   "execution_count": 23,
   "id": "8f0db087",
   "metadata": {},
   "outputs": [
    {
     "data": {
      "text/html": [
       "<div>\n",
       "<style scoped>\n",
       "    .dataframe tbody tr th:only-of-type {\n",
       "        vertical-align: middle;\n",
       "    }\n",
       "\n",
       "    .dataframe tbody tr th {\n",
       "        vertical-align: top;\n",
       "    }\n",
       "\n",
       "    .dataframe thead th {\n",
       "        text-align: right;\n",
       "    }\n",
       "</style>\n",
       "<table border=\"1\" class=\"dataframe\">\n",
       "  <thead>\n",
       "    <tr style=\"text-align: right;\">\n",
       "      <th></th>\n",
       "      <th>model_age</th>\n",
       "      <th>m_from_car_reg</th>\n",
       "      <th>power_kw</th>\n",
       "      <th>mileage_in_km</th>\n",
       "      <th>brand</th>\n",
       "      <th>model</th>\n",
       "      <th>color</th>\n",
       "      <th>transmission_type</th>\n",
       "      <th>fuel_type</th>\n",
       "    </tr>\n",
       "  </thead>\n",
       "  <tbody>\n",
       "    <tr>\n",
       "      <th>206707</th>\n",
       "      <td>7</td>\n",
       "      <td>89</td>\n",
       "      <td>51</td>\n",
       "      <td>99781.0</td>\n",
       "      <td>toyota</td>\n",
       "      <td>Toyota Aygo</td>\n",
       "      <td>red</td>\n",
       "      <td>Manual</td>\n",
       "      <td>Petrol</td>\n",
       "    </tr>\n",
       "    <tr>\n",
       "      <th>236858</th>\n",
       "      <td>5</td>\n",
       "      <td>60</td>\n",
       "      <td>110</td>\n",
       "      <td>35000.0</td>\n",
       "      <td>volkswagen</td>\n",
       "      <td>Volkswagen T-Roc</td>\n",
       "      <td>red</td>\n",
       "      <td>Automatic</td>\n",
       "      <td>Petrol</td>\n",
       "    </tr>\n",
       "    <tr>\n",
       "      <th>166013</th>\n",
       "      <td>7</td>\n",
       "      <td>82</td>\n",
       "      <td>193</td>\n",
       "      <td>66500.0</td>\n",
       "      <td>porsche</td>\n",
       "      <td>Porsche Cayenne</td>\n",
       "      <td>black</td>\n",
       "      <td>Automatic</td>\n",
       "      <td>Diesel</td>\n",
       "    </tr>\n",
       "    <tr>\n",
       "      <th>50938</th>\n",
       "      <td>0</td>\n",
       "      <td>4</td>\n",
       "      <td>67</td>\n",
       "      <td>10.0</td>\n",
       "      <td>dacia</td>\n",
       "      <td>Dacia Sandero</td>\n",
       "      <td>white</td>\n",
       "      <td>Manual</td>\n",
       "      <td>LPG</td>\n",
       "    </tr>\n",
       "    <tr>\n",
       "      <th>199388</th>\n",
       "      <td>2</td>\n",
       "      <td>24</td>\n",
       "      <td>150</td>\n",
       "      <td>41000.0</td>\n",
       "      <td>skoda</td>\n",
       "      <td>Skoda Enyaq</td>\n",
       "      <td>grey</td>\n",
       "      <td>Automatic</td>\n",
       "      <td>Electric</td>\n",
       "    </tr>\n",
       "    <tr>\n",
       "      <th>...</th>\n",
       "      <td>...</td>\n",
       "      <td>...</td>\n",
       "      <td>...</td>\n",
       "      <td>...</td>\n",
       "      <td>...</td>\n",
       "      <td>...</td>\n",
       "      <td>...</td>\n",
       "      <td>...</td>\n",
       "      <td>...</td>\n",
       "    </tr>\n",
       "    <tr>\n",
       "      <th>183100</th>\n",
       "      <td>4</td>\n",
       "      <td>43</td>\n",
       "      <td>55</td>\n",
       "      <td>25996.0</td>\n",
       "      <td>seat</td>\n",
       "      <td>SEAT Mii</td>\n",
       "      <td>white</td>\n",
       "      <td>Manual</td>\n",
       "      <td>Petrol</td>\n",
       "    </tr>\n",
       "    <tr>\n",
       "      <th>121727</th>\n",
       "      <td>5</td>\n",
       "      <td>65</td>\n",
       "      <td>180</td>\n",
       "      <td>44100.0</td>\n",
       "      <td>mercedes-benz</td>\n",
       "      <td>Mercedes-Benz E 300</td>\n",
       "      <td>grey</td>\n",
       "      <td>Automatic</td>\n",
       "      <td>Petrol</td>\n",
       "    </tr>\n",
       "    <tr>\n",
       "      <th>179819</th>\n",
       "      <td>6</td>\n",
       "      <td>73</td>\n",
       "      <td>132</td>\n",
       "      <td>71000.0</td>\n",
       "      <td>seat</td>\n",
       "      <td>SEAT Leon</td>\n",
       "      <td>white</td>\n",
       "      <td>Automatic</td>\n",
       "      <td>Petrol</td>\n",
       "    </tr>\n",
       "    <tr>\n",
       "      <th>45022</th>\n",
       "      <td>5</td>\n",
       "      <td>59</td>\n",
       "      <td>81</td>\n",
       "      <td>45000.0</td>\n",
       "      <td>citroen</td>\n",
       "      <td>Citroen C4 Cactus</td>\n",
       "      <td>grey</td>\n",
       "      <td>Automatic</td>\n",
       "      <td>Petrol</td>\n",
       "    </tr>\n",
       "    <tr>\n",
       "      <th>205553</th>\n",
       "      <td>17</td>\n",
       "      <td>207</td>\n",
       "      <td>64</td>\n",
       "      <td>211977.0</td>\n",
       "      <td>toyota</td>\n",
       "      <td>Toyota Yaris</td>\n",
       "      <td>silver</td>\n",
       "      <td>Manual</td>\n",
       "      <td>Petrol</td>\n",
       "    </tr>\n",
       "  </tbody>\n",
       "</table>\n",
       "<p>183256 rows × 9 columns</p>\n",
       "</div>"
      ],
      "text/plain": [
       "        model_age  m_from_car_reg  power_kw  mileage_in_km          brand  \\\n",
       "206707          7              89        51        99781.0         toyota   \n",
       "236858          5              60       110        35000.0     volkswagen   \n",
       "166013          7              82       193        66500.0        porsche   \n",
       "50938           0               4        67           10.0          dacia   \n",
       "199388          2              24       150        41000.0          skoda   \n",
       "...           ...             ...       ...            ...            ...   \n",
       "183100          4              43        55        25996.0           seat   \n",
       "121727          5              65       180        44100.0  mercedes-benz   \n",
       "179819          6              73       132        71000.0           seat   \n",
       "45022           5              59        81        45000.0        citroen   \n",
       "205553         17             207        64       211977.0         toyota   \n",
       "\n",
       "                      model   color transmission_type fuel_type  \n",
       "206707          Toyota Aygo     red            Manual    Petrol  \n",
       "236858     Volkswagen T-Roc     red         Automatic    Petrol  \n",
       "166013      Porsche Cayenne   black         Automatic    Diesel  \n",
       "50938         Dacia Sandero   white            Manual       LPG  \n",
       "199388          Skoda Enyaq    grey         Automatic  Electric  \n",
       "...                     ...     ...               ...       ...  \n",
       "183100             SEAT Mii   white            Manual    Petrol  \n",
       "121727  Mercedes-Benz E 300    grey         Automatic    Petrol  \n",
       "179819            SEAT Leon   white         Automatic    Petrol  \n",
       "45022     Citroen C4 Cactus    grey         Automatic    Petrol  \n",
       "205553         Toyota Yaris  silver            Manual    Petrol  \n",
       "\n",
       "[183256 rows x 9 columns]"
      ]
     },
     "execution_count": 23,
     "metadata": {},
     "output_type": "execute_result"
    }
   ],
   "source": [
    "X_train"
   ]
  },
  {
   "cell_type": "code",
   "execution_count": 24,
   "id": "136cec78",
   "metadata": {},
   "outputs": [
    {
     "data": {
      "text/plain": [
       "(183256, 1299)"
      ]
     },
     "execution_count": 24,
     "metadata": {},
     "output_type": "execute_result"
    }
   ],
   "source": [
    "X_train_vect.shape"
   ]
  },
  {
   "cell_type": "code",
   "execution_count": 25,
   "id": "3ff83bfa",
   "metadata": {},
   "outputs": [
    {
     "data": {
      "text/plain": [
       "(61086, 9)"
      ]
     },
     "execution_count": 25,
     "metadata": {},
     "output_type": "execute_result"
    }
   ],
   "source": [
    "X_test.shape"
   ]
  },
  {
   "cell_type": "code",
   "execution_count": 26,
   "id": "8cf30535",
   "metadata": {},
   "outputs": [
    {
     "data": {
      "text/plain": [
       "(61086, 1299)"
      ]
     },
     "execution_count": 26,
     "metadata": {},
     "output_type": "execute_result"
    }
   ],
   "source": [
    "X_test_vect.shape"
   ]
  },
  {
   "cell_type": "code",
   "execution_count": 27,
   "id": "a34338e0",
   "metadata": {},
   "outputs": [
    {
     "data": {
      "text/plain": [
       "XGBRegressor(base_score=None, booster=None, callbacks=None,\n",
       "             colsample_bylevel=None, colsample_bynode=None,\n",
       "             colsample_bytree=None, early_stopping_rounds=None,\n",
       "             enable_categorical=False, eval_metric=None, feature_types=None,\n",
       "             gamma=None, gpu_id=None, grow_policy=None, importance_type=None,\n",
       "             interaction_constraints=None, learning_rate=None, max_bin=None,\n",
       "             max_cat_threshold=None, max_cat_to_onehot=None,\n",
       "             max_delta_step=None, max_depth=None, max_leaves=None,\n",
       "             min_child_weight=None, missing=nan, monotone_constraints=None,\n",
       "             n_estimators=100, n_jobs=None, num_parallel_tree=None,\n",
       "             predictor=None, random_state=None, ...)"
      ]
     },
     "execution_count": 27,
     "metadata": {},
     "output_type": "execute_result"
    }
   ],
   "source": [
    "# fit model on training data\n",
    "#model = LinearRegression()\n",
    "model = XGBRegressor()\n",
    "model.fit(X_train_vect, Y_train)"
   ]
  },
  {
   "cell_type": "code",
   "execution_count": 28,
   "id": "33c191b7",
   "metadata": {},
   "outputs": [
    {
     "data": {
      "text/plain": [
       "array([[ 8600],\n",
       "       [24025],\n",
       "       [48490],\n",
       "       ...,\n",
       "       [19950],\n",
       "       [17990],\n",
       "       [ 2500]])"
      ]
     },
     "execution_count": 28,
     "metadata": {},
     "output_type": "execute_result"
    }
   ],
   "source": [
    "Y_train"
   ]
  },
  {
   "cell_type": "code",
   "execution_count": 29,
   "id": "25ed2dd7",
   "metadata": {},
   "outputs": [
    {
     "name": "stdout",
     "output_type": "stream",
     "text": [
      "XGBRegressor(base_score=None, booster=None, callbacks=None,\n",
      "             colsample_bylevel=None, colsample_bynode=None,\n",
      "             colsample_bytree=None, early_stopping_rounds=None,\n",
      "             enable_categorical=False, eval_metric=None, feature_types=None,\n",
      "             gamma=None, gpu_id=None, grow_policy=None, importance_type=None,\n",
      "             interaction_constraints=None, learning_rate=None, max_bin=None,\n",
      "             max_cat_threshold=None, max_cat_to_onehot=None,\n",
      "             max_delta_step=None, max_depth=None, max_leaves=None,\n",
      "             min_child_weight=None, missing=nan, monotone_constraints=None,\n",
      "             n_estimators=100, n_jobs=None, num_parallel_tree=None,\n",
      "             predictor=None, random_state=None, ...)\n",
      "RSME train:  10191.806064402273\n",
      "RSME test:  10308.340508939924\n"
     ]
    }
   ],
   "source": [
    "print(model)\n",
    "\n",
    "from sklearn.metrics import accuracy_score\n",
    "\n",
    "# make predictions for test data\n",
    "Y_pred = model.predict(X_train_vect)\n",
    "# evaluate predictions\n",
    "#Y_pred = [round(value) for value in Y_pred]\n",
    "RSME = metrics.mean_squared_error(Y_train, Y_pred, squared = False)\n",
    "print(\"RSME train: \", RSME)\n",
    "\n",
    "# make predictions for test data\n",
    "Y_pred = model.predict(X_test_vect)\n",
    "# evaluate predictions\n",
    "#Y_pred = [round(value) for value in Y_pred]\n",
    "RSME = metrics.mean_squared_error(Y_test, Y_pred, squared = False)\n",
    "print(\"RSME test: \", RSME)"
   ]
  },
  {
   "cell_type": "code",
   "execution_count": 30,
   "id": "dd9a2d0b",
   "metadata": {},
   "outputs": [
    {
     "data": {
      "text/plain": [
       "array([26878.326, 21673.162, 14256.604, ..., 10255.493, 18850.113,\n",
       "       15612.778], dtype=float32)"
      ]
     },
     "execution_count": 30,
     "metadata": {},
     "output_type": "execute_result"
    }
   ],
   "source": [
    "Y_pred"
   ]
  },
  {
   "cell_type": "code",
   "execution_count": 31,
   "id": "cc9ed968",
   "metadata": {},
   "outputs": [
    {
     "data": {
      "text/plain": [
       "array([[59999],\n",
       "       [18950],\n",
       "       [ 5990],\n",
       "       ...,\n",
       "       [ 5999],\n",
       "       [ 3950],\n",
       "       [23449]])"
      ]
     },
     "execution_count": 31,
     "metadata": {},
     "output_type": "execute_result"
    }
   ],
   "source": [
    "Y_test"
   ]
  },
  {
   "cell_type": "code",
   "execution_count": 32,
   "id": "613d7422",
   "metadata": {},
   "outputs": [],
   "source": [
    "import pickle\n",
    "with open('../models/xgb_regressor.bin', 'wb') as f_out:\n",
    "    pickle.dump((dv, model),f_out)"
   ]
  },
  {
   "cell_type": "code",
   "execution_count": null,
   "id": "7dc9c3e4",
   "metadata": {},
   "outputs": [],
   "source": []
  }
 ],
 "metadata": {
  "kernelspec": {
   "display_name": "Python 3 (ipykernel)",
   "language": "python",
   "name": "python3"
  },
  "language_info": {
   "codemirror_mode": {
    "name": "ipython",
    "version": 3
   },
   "file_extension": ".py",
   "mimetype": "text/x-python",
   "name": "python",
   "nbconvert_exporter": "python",
   "pygments_lexer": "ipython3",
   "version": "3.9.13"
  }
 },
 "nbformat": 4,
 "nbformat_minor": 5
}
