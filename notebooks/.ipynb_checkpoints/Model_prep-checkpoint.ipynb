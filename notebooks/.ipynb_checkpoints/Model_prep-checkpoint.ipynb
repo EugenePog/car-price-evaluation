{
 "cells": [
  {
   "cell_type": "code",
   "execution_count": 1,
   "id": "ad4ff28f",
   "metadata": {},
   "outputs": [],
   "source": [
    "import pandas as pd\n",
    "import numpy as np\n",
    "import datetime as dt\n",
    "from sklearn.linear_model import LinearRegression\n",
    "from xgboost import XGBRegressor\n",
    "from sklearn.model_selection import train_test_split\n",
    "from sklearn import metrics\n",
    "from sklearn.metrics import accuracy_score\n",
    "\n",
    "from datetime import date\n",
    "\n",
    "import matplotlib.pyplot as plt\n",
    "%matplotlib inline\n",
    "import sys\n",
    "from sklearn.feature_extraction import DictVectorizer\n",
    "\n",
    "from sklearn.preprocessing import LabelEncoder\n",
    "from sklearn.preprocessing import OneHotEncoder\n",
    "import numpy"
   ]
  },
  {
   "cell_type": "code",
   "execution_count": 2,
   "id": "6b953942",
   "metadata": {},
   "outputs": [],
   "source": [
    "num_f = ['model_age', 'm_from_car_reg', 'power_kw', 'mileage_in_km']\n",
    "cat_f = ['brand', 'model', 'color', 'transmission_type', 'fuel_type']\n",
    "target = ['price_in_euro']\n",
    "preprocessed_data = '../data/car-price-processed-data.parquet'"
   ]
  },
  {
   "cell_type": "code",
   "execution_count": 3,
   "id": "22b48435",
   "metadata": {},
   "outputs": [],
   "source": [
    "#loading data\n",
    "df = pd.read_parquet(preprocessed_data)"
   ]
  },
  {
   "cell_type": "code",
   "execution_count": 4,
   "id": "23dc5178",
   "metadata": {},
   "outputs": [
    {
     "data": {
      "text/html": [
       "<div>\n",
       "<style scoped>\n",
       "    .dataframe tbody tr th:only-of-type {\n",
       "        vertical-align: middle;\n",
       "    }\n",
       "\n",
       "    .dataframe tbody tr th {\n",
       "        vertical-align: top;\n",
       "    }\n",
       "\n",
       "    .dataframe thead th {\n",
       "        text-align: right;\n",
       "    }\n",
       "</style>\n",
       "<table border=\"1\" class=\"dataframe\">\n",
       "  <thead>\n",
       "    <tr style=\"text-align: right;\">\n",
       "      <th></th>\n",
       "      <th>brand</th>\n",
       "      <th>model</th>\n",
       "      <th>color</th>\n",
       "      <th>transmission_type</th>\n",
       "      <th>fuel_type</th>\n",
       "      <th>model_age</th>\n",
       "      <th>m_from_car_reg</th>\n",
       "      <th>power_kw</th>\n",
       "      <th>mileage_in_km</th>\n",
       "      <th>price_in_euro</th>\n",
       "    </tr>\n",
       "  </thead>\n",
       "  <tbody>\n",
       "    <tr>\n",
       "      <th>0</th>\n",
       "      <td>alfa-romeo</td>\n",
       "      <td>Alfa Romeo GTV</td>\n",
       "      <td>red</td>\n",
       "      <td>Manual</td>\n",
       "      <td>Petrol</td>\n",
       "      <td>28</td>\n",
       "      <td>333</td>\n",
       "      <td>148</td>\n",
       "      <td>160500.0</td>\n",
       "      <td>1300</td>\n",
       "    </tr>\n",
       "    <tr>\n",
       "      <th>1</th>\n",
       "      <td>alfa-romeo</td>\n",
       "      <td>Alfa Romeo 164</td>\n",
       "      <td>black</td>\n",
       "      <td>Manual</td>\n",
       "      <td>Petrol</td>\n",
       "      <td>28</td>\n",
       "      <td>341</td>\n",
       "      <td>191</td>\n",
       "      <td>190000.0</td>\n",
       "      <td>24900</td>\n",
       "    </tr>\n",
       "    <tr>\n",
       "      <th>2</th>\n",
       "      <td>alfa-romeo</td>\n",
       "      <td>Alfa Romeo Spider</td>\n",
       "      <td>black</td>\n",
       "      <td>Unknown</td>\n",
       "      <td>Petrol</td>\n",
       "      <td>28</td>\n",
       "      <td>341</td>\n",
       "      <td>110</td>\n",
       "      <td>129000.0</td>\n",
       "      <td>5900</td>\n",
       "    </tr>\n",
       "    <tr>\n",
       "      <th>3</th>\n",
       "      <td>alfa-romeo</td>\n",
       "      <td>Alfa Romeo Spider</td>\n",
       "      <td>black</td>\n",
       "      <td>Manual</td>\n",
       "      <td>Petrol</td>\n",
       "      <td>28</td>\n",
       "      <td>336</td>\n",
       "      <td>110</td>\n",
       "      <td>189500.0</td>\n",
       "      <td>4900</td>\n",
       "    </tr>\n",
       "    <tr>\n",
       "      <th>4</th>\n",
       "      <td>alfa-romeo</td>\n",
       "      <td>Alfa Romeo 164</td>\n",
       "      <td>red</td>\n",
       "      <td>Manual</td>\n",
       "      <td>Petrol</td>\n",
       "      <td>27</td>\n",
       "      <td>320</td>\n",
       "      <td>132</td>\n",
       "      <td>96127.0</td>\n",
       "      <td>17950</td>\n",
       "    </tr>\n",
       "    <tr>\n",
       "      <th>...</th>\n",
       "      <td>...</td>\n",
       "      <td>...</td>\n",
       "      <td>...</td>\n",
       "      <td>...</td>\n",
       "      <td>...</td>\n",
       "      <td>...</td>\n",
       "      <td>...</td>\n",
       "      <td>...</td>\n",
       "      <td>...</td>\n",
       "      <td>...</td>\n",
       "    </tr>\n",
       "    <tr>\n",
       "      <th>251074</th>\n",
       "      <td>volvo</td>\n",
       "      <td>Volvo XC40</td>\n",
       "      <td>white</td>\n",
       "      <td>Automatic</td>\n",
       "      <td>Hybrid</td>\n",
       "      <td>0</td>\n",
       "      <td>3</td>\n",
       "      <td>192</td>\n",
       "      <td>1229.0</td>\n",
       "      <td>57990</td>\n",
       "    </tr>\n",
       "    <tr>\n",
       "      <th>251075</th>\n",
       "      <td>volvo</td>\n",
       "      <td>Volvo XC90</td>\n",
       "      <td>white</td>\n",
       "      <td>Automatic</td>\n",
       "      <td>Diesel</td>\n",
       "      <td>0</td>\n",
       "      <td>4</td>\n",
       "      <td>173</td>\n",
       "      <td>4900.0</td>\n",
       "      <td>89690</td>\n",
       "    </tr>\n",
       "    <tr>\n",
       "      <th>251076</th>\n",
       "      <td>volvo</td>\n",
       "      <td>Volvo V60</td>\n",
       "      <td>white</td>\n",
       "      <td>Automatic</td>\n",
       "      <td>Diesel</td>\n",
       "      <td>0</td>\n",
       "      <td>2</td>\n",
       "      <td>145</td>\n",
       "      <td>1531.0</td>\n",
       "      <td>61521</td>\n",
       "    </tr>\n",
       "    <tr>\n",
       "      <th>251077</th>\n",
       "      <td>volvo</td>\n",
       "      <td>Volvo XC40</td>\n",
       "      <td>white</td>\n",
       "      <td>Automatic</td>\n",
       "      <td>Hybrid</td>\n",
       "      <td>0</td>\n",
       "      <td>2</td>\n",
       "      <td>132</td>\n",
       "      <td>1500.0</td>\n",
       "      <td>57890</td>\n",
       "    </tr>\n",
       "    <tr>\n",
       "      <th>251078</th>\n",
       "      <td>volvo</td>\n",
       "      <td>Volvo XC40</td>\n",
       "      <td>gold</td>\n",
       "      <td>Automatic</td>\n",
       "      <td>Electric</td>\n",
       "      <td>0</td>\n",
       "      <td>4</td>\n",
       "      <td>160</td>\n",
       "      <td>50.0</td>\n",
       "      <td>52900</td>\n",
       "    </tr>\n",
       "  </tbody>\n",
       "</table>\n",
       "<p>244342 rows × 10 columns</p>\n",
       "</div>"
      ],
      "text/plain": [
       "             brand              model  color transmission_type fuel_type  \\\n",
       "0       alfa-romeo     Alfa Romeo GTV    red            Manual    Petrol   \n",
       "1       alfa-romeo     Alfa Romeo 164  black            Manual    Petrol   \n",
       "2       alfa-romeo  Alfa Romeo Spider  black           Unknown    Petrol   \n",
       "3       alfa-romeo  Alfa Romeo Spider  black            Manual    Petrol   \n",
       "4       alfa-romeo     Alfa Romeo 164    red            Manual    Petrol   \n",
       "...            ...                ...    ...               ...       ...   \n",
       "251074       volvo         Volvo XC40  white         Automatic    Hybrid   \n",
       "251075       volvo         Volvo XC90  white         Automatic    Diesel   \n",
       "251076       volvo          Volvo V60  white         Automatic    Diesel   \n",
       "251077       volvo         Volvo XC40  white         Automatic    Hybrid   \n",
       "251078       volvo         Volvo XC40   gold         Automatic  Electric   \n",
       "\n",
       "        model_age  m_from_car_reg  power_kw  mileage_in_km  price_in_euro  \n",
       "0              28             333       148       160500.0           1300  \n",
       "1              28             341       191       190000.0          24900  \n",
       "2              28             341       110       129000.0           5900  \n",
       "3              28             336       110       189500.0           4900  \n",
       "4              27             320       132        96127.0          17950  \n",
       "...           ...             ...       ...            ...            ...  \n",
       "251074          0               3       192         1229.0          57990  \n",
       "251075          0               4       173         4900.0          89690  \n",
       "251076          0               2       145         1531.0          61521  \n",
       "251077          0               2       132         1500.0          57890  \n",
       "251078          0               4       160           50.0          52900  \n",
       "\n",
       "[244342 rows x 10 columns]"
      ]
     },
     "execution_count": 4,
     "metadata": {},
     "output_type": "execute_result"
    }
   ],
   "source": [
    "df"
   ]
  },
  {
   "cell_type": "code",
   "execution_count": 5,
   "id": "e345d58a",
   "metadata": {},
   "outputs": [
    {
     "name": "stdout",
     "output_type": "stream",
     "text": [
      "X shape: :  (244342, 1336)\n"
     ]
    }
   ],
   "source": [
    "X = df[cat_f].values[:,0:5]\n",
    "encoded_x = None\n",
    "\n",
    "for i in range(0, X.shape[1]):\n",
    "    label_encoder = LabelEncoder()\n",
    "    feature = label_encoder.fit_transform(X[:,i])\n",
    "    feature = feature.reshape(X.shape[0], 1)\n",
    "    onehot_encoder = OneHotEncoder(sparse=False, categories='auto')\n",
    "    feature = onehot_encoder.fit_transform(feature)\n",
    "    if encoded_x is None:\n",
    "        encoded_x = feature\n",
    "    else:\n",
    "        encoded_x = numpy.concatenate((encoded_x, feature), axis=1)\n",
    "print(\"X shape: : \", encoded_x.shape)"
   ]
  },
  {
   "cell_type": "code",
   "execution_count": 6,
   "id": "8f0db087",
   "metadata": {},
   "outputs": [
    {
     "data": {
      "text/plain": [
       "(244342, 1336)"
      ]
     },
     "execution_count": 6,
     "metadata": {},
     "output_type": "execute_result"
    }
   ],
   "source": [
    "encoded_x\n",
    "encoded_x.shape"
   ]
  },
  {
   "cell_type": "code",
   "execution_count": 7,
   "id": "852ed3eb",
   "metadata": {},
   "outputs": [],
   "source": [
    "X = df[num_f].values[:,0:4]\n",
    "encoded_x = numpy.concatenate((encoded_x, X), axis=1)"
   ]
  },
  {
   "cell_type": "code",
   "execution_count": 8,
   "id": "19018b9a",
   "metadata": {},
   "outputs": [
    {
     "data": {
      "text/plain": [
       "(244342, 1340)"
      ]
     },
     "execution_count": 8,
     "metadata": {},
     "output_type": "execute_result"
    }
   ],
   "source": [
    "encoded_x\n",
    "encoded_x.shape"
   ]
  },
  {
   "cell_type": "code",
   "execution_count": 9,
   "id": "512aa7e8",
   "metadata": {},
   "outputs": [],
   "source": [
    "X_train, X_test, Y_train, Y_test = train_test_split(encoded_x, df[target].values, test_size=0.25, random_state=0)"
   ]
  },
  {
   "cell_type": "code",
   "execution_count": 10,
   "id": "be9295f7",
   "metadata": {},
   "outputs": [
    {
     "data": {
      "text/plain": [
       "array([[ 8600],\n",
       "       [24025],\n",
       "       [48490],\n",
       "       ...,\n",
       "       [19950],\n",
       "       [17990],\n",
       "       [ 2500]])"
      ]
     },
     "execution_count": 10,
     "metadata": {},
     "output_type": "execute_result"
    }
   ],
   "source": [
    "Y_train"
   ]
  },
  {
   "cell_type": "code",
   "execution_count": 11,
   "id": "a34338e0",
   "metadata": {},
   "outputs": [
    {
     "data": {
      "text/plain": [
       "XGBRegressor(base_score=None, booster=None, callbacks=None,\n",
       "             colsample_bylevel=None, colsample_bynode=None,\n",
       "             colsample_bytree=None, early_stopping_rounds=None,\n",
       "             enable_categorical=False, eval_metric=None, feature_types=None,\n",
       "             gamma=None, gpu_id=None, grow_policy=None, importance_type=None,\n",
       "             interaction_constraints=None, learning_rate=None, max_bin=None,\n",
       "             max_cat_threshold=None, max_cat_to_onehot=None,\n",
       "             max_delta_step=None, max_depth=None, max_leaves=None,\n",
       "             min_child_weight=None, missing=nan, monotone_constraints=None,\n",
       "             n_estimators=100, n_jobs=None, num_parallel_tree=None,\n",
       "             predictor=None, random_state=None, ...)"
      ]
     },
     "execution_count": 11,
     "metadata": {},
     "output_type": "execute_result"
    }
   ],
   "source": [
    "# fit model on training data\n",
    "model = XGBRegressor()\n",
    "model.fit(X_train, Y_train)"
   ]
  },
  {
   "cell_type": "code",
   "execution_count": 12,
   "id": "25ed2dd7",
   "metadata": {},
   "outputs": [
    {
     "name": "stdout",
     "output_type": "stream",
     "text": [
      "RSME train:  4948.784289824164\n",
      "RSME test:  5250.046269504856\n"
     ]
    }
   ],
   "source": [
    "# make predictions for test data\n",
    "Y_pred = model.predict(X_train)\n",
    "# evaluate predictions\n",
    "Y_pred = [round(value) for value in Y_pred]\n",
    "RSME = metrics.mean_squared_error(Y_train, Y_pred, squared = False)\n",
    "print(\"RSME train: \", RSME)\n",
    "\n",
    "# make predictions for test data\n",
    "Y_pred = model.predict(X_test)\n",
    "# evaluate predictions\n",
    "Y_pred = [round(value) for value in Y_pred]\n",
    "RSME = metrics.mean_squared_error(Y_test, Y_pred, squared = False)\n",
    "print(\"RSME test: \", RSME)"
   ]
  },
  {
   "cell_type": "code",
   "execution_count": 13,
   "id": "e4904b77",
   "metadata": {},
   "outputs": [],
   "source": [
    "import pickle\n",
    "with open('../models/xgb_regressor.bin', 'wb') as f_out:\n",
    "    pickle.dump(model,f_out)"
   ]
  }
 ],
 "metadata": {
  "kernelspec": {
   "display_name": "Python 3 (ipykernel)",
   "language": "python",
   "name": "python3"
  },
  "language_info": {
   "codemirror_mode": {
    "name": "ipython",
    "version": 3
   },
   "file_extension": ".py",
   "mimetype": "text/x-python",
   "name": "python",
   "nbconvert_exporter": "python",
   "pygments_lexer": "ipython3",
   "version": "3.9.13"
  }
 },
 "nbformat": 4,
 "nbformat_minor": 5
}
